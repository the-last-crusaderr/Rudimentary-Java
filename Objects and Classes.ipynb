{
 "cells": [
  {
   "cell_type": "code",
   "execution_count": null,
   "id": "cellular-piano",
   "metadata": {
    "collapsed": true
   },
   "outputs": [],
   "source": [
    "OOP is the modern and popular paradigm to build program.\n",
    "Your program consists of bunch of objects and they talk to each other via interface.\n",
    "Every object satisfies some specs of the program.\n",
    "    \n",
    "    \n",
    "Procedural progaramming -> Algorithm + Data Structure (More suitable for smaller program)\n",
    "\n",
    "    First, Decide how to manipulate the data.\n",
    "    Then, put some structure on data to make the manipulation easier.\n",
    "\n",
    "\n",
    "OOP -> Data Structure + Algorithm (Suitable for larger program)\n",
    "\n",
    "    First, put the data first.\n",
    "    Then, find a way to operate on that data.\n",
    "    \n",
    "    \n",
    "    \n",
    "    \n",
    "    "
   ]
  },
  {
   "cell_type": "code",
   "execution_count": null,
   "id": "mexican-offering",
   "metadata": {},
   "outputs": [],
   "source": [
    "Class -> Blueprint to create instances\n",
    "Object -> Instance of a class\n",
    "\n",
    "The set of values at any time of object is known as object.\n",
    "Method may change the state of the object.\n",
    "\n",
    "\n",
    "\n",
    "Key Characteristics of object:\n",
    "\n",
    "1. State    (Usually different for different instances)\n",
    "2. Method  (Same for all instances of a class)\n",
    "3. Identity (Always different for different instances)\n",
    "\n",
    "\n",
    "Relationship between classes:-\n",
    "\n",
    "1. Dependence(uses-a)\n",
    "2. Aggregate(has-a)\n",
    "3. Inheritance(is-a)\n",
    "\n",
    "\n",
    "Accessor and Mutator-> Accessor does not change the state of the object, while mutator changes it.\n",
    "\n",
    "\n",
    "OOP Principle :\n",
    "\n",
    "Encapsulation -> Combining the data member and data field in a container and hiding the implementation detail from the user of the object.\n",
    "\n"
   ]
  },
  {
   "cell_type": "code",
   "execution_count": 18,
   "id": "mental-bleeding",
   "metadata": {},
   "outputs": [
    {
     "name": "stdout",
     "output_type": "stream",
     "text": [
      "Fri Apr 01 15:16:14 IST 2022\n",
      "1996-06-01\n",
      "1999-02-26\n",
      "year= 1996 month = 6 day = 1"
     ]
    },
    {
     "data": {
      "text/plain": [
       "java.io.PrintStream@15337499"
      ]
     },
     "execution_count": 18,
     "metadata": {},
     "output_type": "execute_result"
    }
   ],
   "source": [
    "// playing with built in object Date\n",
    "\n",
    "import java.time.*;\n",
    "\n",
    "String today = new Date().toString();\n",
    "\n",
    "\n",
    "System.out.println(today);\n",
    "\n",
    "\n",
    "// use another class to manipulate date i.e. LocalDate\n",
    "// We are going to use static factory function to implement it\n",
    "\n",
    "LocalDate thatYear = LocalDate.of(1996,06,01);\n",
    "\n",
    "LocalDate thousandDaysLater = thatYear.plusDays(1000);\n",
    "\n",
    "int year = thatYear.getYear();\n",
    "int month = thatYear.getMonthValue();\n",
    "int day = thatYear.getDayOfMonth();\n",
    "\n",
    "\n",
    "System.out.println(thatYear);\n",
    "System.out.println(thousandDaysLater);\n",
    "System.out.format(\"year= %d month = %d day = %d\",year,month,day);\n",
    "\n",
    "\n",
    "\n",
    "\n"
   ]
  },
  {
   "cell_type": "code",
   "execution_count": null,
   "id": "perfect-updating",
   "metadata": {},
   "outputs": [],
   "source": []
  }
 ],
 "metadata": {
  "kernelspec": {
   "display_name": "Java",
   "language": "java",
   "name": "java"
  },
  "language_info": {
   "codemirror_mode": "java",
   "file_extension": ".jshell",
   "mimetype": "text/x-java-source",
   "name": "Java",
   "pygments_lexer": "java",
   "version": "11.0.14.1+1-Ubuntu-0ubuntu1.20.04"
  }
 },
 "nbformat": 4,
 "nbformat_minor": 5
}
