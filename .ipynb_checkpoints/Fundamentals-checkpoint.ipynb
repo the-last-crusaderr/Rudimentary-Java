{
 "cells": [
  {
   "cell_type": "markdown",
   "id": "flush-small",
   "metadata": {},
   "source": [
    "# The sample framework of the java program are -\n",
    "\n",
    "\n",
    "\n",
    "public class FirstSample\n",
    "{\n",
    " public static void main(String[] args)\n",
    " {\n",
    " System.out.println(\"We will not use 'Hello, World!'\");\n",
    " }\n",
    "}\n",
    "\n",
    "\n",
    "## let's try to decode it.\n",
    "\n",
    "public -> access modifier\n"
   ]
  },
  {
   "cell_type": "code",
   "execution_count": null,
   "id": "authentic-concentrate",
   "metadata": {},
   "outputs": [],
   "source": []
  }
 ],
 "metadata": {
  "kernelspec": {
   "display_name": "Java",
   "language": "java",
   "name": "java"
  },
  "language_info": {
   "codemirror_mode": "java",
   "file_extension": ".jshell",
   "mimetype": "text/x-java-source",
   "name": "Java",
   "pygments_lexer": "java",
   "version": "11.0.14.1+1-Ubuntu-0ubuntu1.20.04"
  }
 },
 "nbformat": 4,
 "nbformat_minor": 5
}
