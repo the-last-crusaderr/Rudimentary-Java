{
 "cells": [
  {
   "cell_type": "code",
   "execution_count": null,
   "id": "foreign-survival",
   "metadata": {},
   "outputs": [],
   "source": [
    "# The sample framework of the java program are -\n",
    "\n",
    "\n",
    "\n",
    "public class FirstSample\n",
    "{\n",
    " public static void main(String[] args)\n",
    " {\n",
    " System.out.println(\"We will not use 'Hello, World!'\");\n",
    " }\n",
    "}\n",
    "\n",
    "\n",
    "## let's try to decode it.\n",
    "\n",
    "public -> access modifier\n",
    "class -> keyword for creating class\n"
   ]
  },
  {
   "cell_type": "code",
   "execution_count": null,
   "id": "coral-sheep",
   "metadata": {},
   "outputs": [],
   "source": [
    "### Source Code -> ClassName.java \n",
    "\n",
    "\n",
    "Compile(jdk) the source code into bytecode \n",
    "\n",
    "And then run it into virtual Machine(jre)\n",
    "\n",
    "\n",
    "### ByteCode -> ClassName.class"
   ]
  },
  {
   "cell_type": "code",
   "execution_count": 11,
   "id": "soviet-venice",
   "metadata": {},
   "outputs": [
    {
     "name": "stdout",
     "output_type": "stream",
     "text": [
      "Testing for spanning in multiple lines. It is good.\n"
     ]
    }
   ],
   "source": [
    "// Written by Sumit Kumar Gupta\n",
    "/* on date 30th, March\n",
    "    2022 */\n",
    "\n",
    "\n",
    "System.out.println(\"Testing for spanning in multiple lines.\" \n",
    "+ \" It is good.\");"
   ]
  },
  {
   "cell_type": "code",
   "execution_count": null,
   "id": "legal-excuse",
   "metadata": {},
   "outputs": [],
   "source": [
    "# There are 8 data types in java\n",
    "\n",
    "byte    1 byte\n",
    "short   2 byte\n",
    "int     4 byte\n",
    "long    8 byte \n",
    "float   4 byte\n",
    "double  8 byte\n",
    "char    1 byte\n",
    "bool    1 bit\n"
   ]
  },
  {
   "cell_type": "code",
   "execution_count": 16,
   "id": "geographic-vampire",
   "metadata": {},
   "outputs": [
    {
     "data": {
      "text/plain": [
       "-Infinity"
      ]
     },
     "execution_count": 16,
     "metadata": {},
     "output_type": "execute_result"
    }
   ],
   "source": [
    "double temp = 0;\n",
    "-3/temp;"
   ]
  },
  {
   "cell_type": "code",
   "execution_count": 40,
   "id": "united-saying",
   "metadata": {},
   "outputs": [
    {
     "name": "stdout",
     "output_type": "stream",
     "text": [
      "43.0"
     ]
    }
   ],
   "source": [
    "import static java.lang.Math.*;\n",
    "\n",
    "static final double marks = sqrt(43);\n",
    "marks = 43;\n",
    "System.out.print(marks);"
   ]
  },
  {
   "cell_type": "code",
   "execution_count": 35,
   "id": "aggregate-rwanda",
   "metadata": {},
   "outputs": [],
   "source": [
    "public class Base{\n",
    "    public static final int age = 34;\n",
    "    public static void main(String[] args){\n",
    "        System.out.print(age);\n",
    "    }\n",
    "}\n"
   ]
  },
  {
   "cell_type": "code",
   "execution_count": 49,
   "id": "nervous-preview",
   "metadata": {},
   "outputs": [
    {
     "name": "stdout",
     "output_type": "stream",
     "text": [
      "7.38905609893065 7.290000000000001 1.0\n"
     ]
    }
   ],
   "source": [
    "import java.lang.Math.*;\n",
    "\n",
    "// exp. function is equal to (a ^ x ) where a = 2.7\n",
    "\n",
    "double a = Math.exp(2);\n",
    "double b = Math.pow(2.7,2);\n",
    "double c = Math.log10(10);\n",
    "System.out.println(a+\" \"+b+\" \"+c);"
   ]
  },
  {
   "cell_type": "code",
   "execution_count": 52,
   "id": "civil-yugoslavia",
   "metadata": {},
   "outputs": [
    {
     "name": "stdout",
     "output_type": "stream",
     "text": [
      "1 2"
     ]
    }
   ],
   "source": [
    "// casting one data type to another, the code below is self explanatory\n",
    "\n",
    "import static java.lang.Math.*;\n",
    "\n",
    "double d = 1.78;\n",
    "int a = (int)d;\n",
    "int b = (int)Math.round(d);\n",
    "System.out.print(a+\" \"+b);"
   ]
  },
  {
   "cell_type": "code",
   "execution_count": 59,
   "id": "received-drive",
   "metadata": {},
   "outputs": [
    {
     "name": "stdout",
     "output_type": "stream",
     "text": [
      "Sumit™Su83"
     ]
    }
   ],
   "source": [
    "// string in java are sequence of unicode character\n",
    "\n",
    "\n",
    "String s = \"Sumit\\u2122\";\n",
    "String sub = s.substring(0,2);\n",
    "int i = sub.codePointAt(0);\n",
    "System.out.print(s+sub+i);"
   ]
  },
  {
   "cell_type": "code",
   "execution_count": 1,
   "id": "spectacular-glass",
   "metadata": {},
   "outputs": [
    {
     "name": "stdout",
     "output_type": "stream",
     "text": [
      "Sumitumit"
     ]
    }
   ],
   "source": [
    "// make string from smaller pieces\n",
    "\n",
    "StringBuilder builder = new StringBuilder();\n",
    "builder.append(\"Sumit\");\n",
    "builder.append('u');\n",
    "builder.append(\"m\");\n",
    "builder.append(\"i\");\n",
    "builder.append(\"t\");\n",
    "\n",
    "\n",
    "String completedString = builder.toString();\n",
    "\n",
    "System.out.print(completedString);"
   ]
  },
  {
   "cell_type": "code",
   "execution_count": null,
   "id": "finnish-century",
   "metadata": {},
   "outputs": [
    {
     "name": "stdout",
     "output_type": "stream",
     "text": [
      "What's is your name?\n"
     ]
    }
   ],
   "source": [
    "// test the program for input \n",
    "\n",
    "import java.util.*;\n",
    "\n",
    "\n",
    "Scanner in = new Scanner(System.in);\n",
    "\n",
    "System.out.println(\"What's is your name?\");\n",
    "String name = in.nextLine();\n",
    "System.out.println(\"What's is your fav team?\");\n",
    "String favTeam = in.nextLine();\n",
    "\n",
    "int i = in.nextInt();\n",
    "double d = in.nextDouble();\n",
    "\n",
    "System.out.println( name + \" \" + \" \" + i + \" \" +d);\n",
    "System.out.println(favTeam);\n",
    "\n"
   ]
  },
  {
   "cell_type": "code",
   "execution_count": null,
   "id": "innovative-verse",
   "metadata": {},
   "outputs": [],
   "source": []
  },
  {
   "cell_type": "code",
   "execution_count": null,
   "id": "canadian-sentence",
   "metadata": {},
   "outputs": [],
   "source": []
  },
  {
   "cell_type": "code",
   "execution_count": null,
   "id": "noted-delaware",
   "metadata": {},
   "outputs": [],
   "source": []
  },
  {
   "cell_type": "code",
   "execution_count": null,
   "id": "respective-brook",
   "metadata": {},
   "outputs": [],
   "source": []
  }
 ],
 "metadata": {
  "kernelspec": {
   "display_name": "Java",
   "language": "java",
   "name": "java"
  },
  "language_info": {
   "codemirror_mode": "java",
   "file_extension": ".jshell",
   "mimetype": "text/x-java-source",
   "name": "Java",
   "pygments_lexer": "java",
   "version": "11.0.14.1+1-Ubuntu-0ubuntu1.20.04"
  }
 },
 "nbformat": 4,
 "nbformat_minor": 5
}
