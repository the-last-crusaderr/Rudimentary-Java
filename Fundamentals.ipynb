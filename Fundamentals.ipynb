{
 "cells": [
  {
   "cell_type": "markdown",
   "id": "requested-processing",
   "metadata": {},
   "source": [
    "# The sample framework of the java program are -\n",
    "\n",
    "\n",
    "\n",
    "public class FirstSample\n",
    "{\n",
    " public static void main(String[] args)\n",
    " {\n",
    " System.out.println(\"We will not use 'Hello, World!'\");\n",
    " }\n",
    "}\n",
    "\n",
    "\n",
    "## let's try to decode it.\n",
    "\n",
    "public -> access modifier\n",
    "class -> keyword for creating class\n"
   ]
  },
  {
   "cell_type": "markdown",
   "id": "bizarre-picking",
   "metadata": {},
   "source": [
    "### Source Code -> ClassName.java \n",
    "\n",
    "\n",
    "Compile(jdk) the source code into bytecode \n",
    "\n",
    "And then run it into virtual Machine(jre)\n",
    "\n",
    "\n",
    "### ByteCode -> ClassName.class"
   ]
  },
  {
   "cell_type": "code",
   "execution_count": 11,
   "id": "powerful-thriller",
   "metadata": {},
   "outputs": [
    {
     "name": "stdout",
     "output_type": "stream",
     "text": [
      "Testing for spanning in multiple lines. It is good.\n"
     ]
    }
   ],
   "source": [
    "// Written by Sumit Kumar Gupta\n",
    "/* on date 30th, March\n",
    "    2022 */\n",
    "\n",
    "\n",
    "System.out.println(\"Testing for spanning in multiple lines.\" \n",
    "+ \" It is good.\");"
   ]
  },
  {
   "cell_type": "markdown",
   "id": "smoking-quantum",
   "metadata": {},
   "source": [
    "# There are 8 data types in java\n",
    "\n",
    "byte    1 byte\n",
    "short   2 byte\n",
    "int     4 byte\n",
    "long    8 byte \n",
    "float   4 byte\n",
    "double  8 byte\n",
    "char    1 byte\n",
    "bool    1 bit\n"
   ]
  }
 ],
 "metadata": {
  "kernelspec": {
   "display_name": "Java",
   "language": "java",
   "name": "java"
  },
  "language_info": {
   "codemirror_mode": "java",
   "file_extension": ".jshell",
   "mimetype": "text/x-java-source",
   "name": "Java",
   "pygments_lexer": "java",
   "version": "11.0.14.1+1-Ubuntu-0ubuntu1.20.04"
  }
 },
 "nbformat": 4,
 "nbformat_minor": 5
}
