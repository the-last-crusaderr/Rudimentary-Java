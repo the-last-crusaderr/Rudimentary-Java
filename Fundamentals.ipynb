{
 "cells": [
  {
   "cell_type": "code",
   "execution_count": null,
   "id": "active-fetish",
   "metadata": {},
   "outputs": [],
   "source": [
    "# The sample framework of the java program are -\n",
    "\n",
    "\n",
    "\n",
    "public class FirstSample\n",
    "{\n",
    " public static void main(String[] args)\n",
    " {\n",
    " System.out.println(\"We will not use 'Hello, World!'\");\n",
    " }\n",
    "}\n",
    "\n",
    "\n",
    "## let's try to decode it.\n",
    "\n",
    "public -> access modifier\n",
    "class -> keyword for creating class\n"
   ]
  },
  {
   "cell_type": "code",
   "execution_count": null,
   "id": "removable-cooling",
   "metadata": {},
   "outputs": [],
   "source": [
    "### Source Code -> ClassName.java \n",
    "\n",
    "\n",
    "Compile(jdk) the source code into bytecode \n",
    "\n",
    "And then run it into virtual Machine(jre)\n",
    "\n",
    "\n",
    "### ByteCode -> ClassName.class"
   ]
  },
  {
   "cell_type": "code",
   "execution_count": 11,
   "id": "introductory-designer",
   "metadata": {},
   "outputs": [
    {
     "name": "stdout",
     "output_type": "stream",
     "text": [
      "Testing for spanning in multiple lines. It is good.\n"
     ]
    }
   ],
   "source": [
    "// Written by Sumit Kumar Gupta\n",
    "/* on date 30th, March\n",
    "    2022 */\n",
    "\n",
    "\n",
    "System.out.println(\"Testing for spanning in multiple lines.\" \n",
    "+ \" It is good.\");"
   ]
  },
  {
   "cell_type": "code",
   "execution_count": null,
   "id": "valid-badge",
   "metadata": {},
   "outputs": [],
   "source": [
    "# There are 8 data types in java\n",
    "\n",
    "byte    1 byte\n",
    "short   2 byte\n",
    "int     4 byte\n",
    "long    8 byte \n",
    "float   4 byte\n",
    "double  8 byte\n",
    "char    1 byte\n",
    "bool    1 bit\n"
   ]
  },
  {
   "cell_type": "code",
   "execution_count": 16,
   "id": "assumed-egyptian",
   "metadata": {},
   "outputs": [
    {
     "data": {
      "text/plain": [
       "-Infinity"
      ]
     },
     "execution_count": 16,
     "metadata": {},
     "output_type": "execute_result"
    }
   ],
   "source": [
    "double temp = 0;\n",
    "-3/temp;"
   ]
  },
  {
   "cell_type": "code",
   "execution_count": 40,
   "id": "frank-atlanta",
   "metadata": {},
   "outputs": [
    {
     "name": "stdout",
     "output_type": "stream",
     "text": [
      "43.0"
     ]
    }
   ],
   "source": [
    "import static java.lang.Math.*;\n",
    "\n",
    "static final double marks = sqrt(43);\n",
    "marks = 43;\n",
    "System.out.print(marks);"
   ]
  },
  {
   "cell_type": "code",
   "execution_count": 35,
   "id": "legitimate-organizer",
   "metadata": {},
   "outputs": [],
   "source": [
    "public class Base{\n",
    "    public static final int age = 34;\n",
    "    public static void main(String[] args){\n",
    "        System.out.print(age);\n",
    "    }\n",
    "}\n"
   ]
  },
  {
   "cell_type": "code",
   "execution_count": 48,
   "id": "historic-hawaiian",
   "metadata": {},
   "outputs": [
    {
     "name": "stdout",
     "output_type": "stream",
     "text": [
      "7.38905609893065 7.290000000000001 1.0\n"
     ]
    }
   ],
   "source": [
    "import static java.lang.Math.*;\n",
    "\n",
    "// exp. function is equal to (a ^ x ) where a = 2.7\n",
    "\n",
    "double a = Math.exp(2);\n",
    "double b = Math.pow(2.7,2);\n",
    "double c = Math.log10(10);\n",
    "System.out.println(a+\" \"+b+\" \"+c);"
   ]
  },
  {
   "cell_type": "code",
   "execution_count": null,
   "id": "dedicated-society",
   "metadata": {},
   "outputs": [],
   "source": []
  }
 ],
 "metadata": {
  "kernelspec": {
   "display_name": "Java",
   "language": "java",
   "name": "java"
  },
  "language_info": {
   "codemirror_mode": "java",
   "file_extension": ".jshell",
   "mimetype": "text/x-java-source",
   "name": "Java",
   "pygments_lexer": "java",
   "version": "11.0.14.1+1-Ubuntu-0ubuntu1.20.04"
  }
 },
 "nbformat": 4,
 "nbformat_minor": 5
}
